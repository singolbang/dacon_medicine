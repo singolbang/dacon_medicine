{
 "cells": [
  {
   "metadata": {
    "ExecuteTime": {
     "end_time": "2024-09-03T14:01:47.408879Z",
     "start_time": "2024-09-03T14:01:43.811150Z"
    }
   },
   "cell_type": "code",
   "source": [
    "\n",
    "from rdkit import Chem\n",
    "from rdkit.Chem import Draw\n",
    "from rdkit.Chem.Draw import MolsToImage\n",
    "from rdkit.Chem.Draw import MolToFile\n",
    "import networkx as nx\n",
    "import matplotlib.pyplot as plt\n",
    "import torch\n",
    "import numpy as np\n",
    "\n",
    "import pandas as pd\n",
    "\n",
    "df = pd.read_csv('train.csv')\n",
    "dt = pd.read_csv('test.csv')\n",
    "\n",
    "\n",
    "df = df[['IC50_nM', 'Smiles']]\n",
    "\n",
    "pd.DataFrame(df)\n",
    "\n",
    "\n",
    "\n",
    "def mol_to_nx(mol):\n",
    "    G = nx.Graph()\n",
    "\n",
    "    for atom in mol.GetAtoms():\n",
    "        G.add_node(atom.GetIdx(),\n",
    "                   labels=atom.GetSymbol(),\n",
    "                   atomic_num=atom.GetAtomicNum(),\n",
    "                   formal_charge=atom.GetFormalCharge(),\n",
    "                   chiral_tag=atom.GetChiralTag(),\n",
    "                   hybridization=atom.GetHybridization(),\n",
    "                   num_explicit_hs=atom.GetNumExplicitHs(),\n",
    "                   is_aromatic=atom.GetIsAromatic())\n",
    "    for bond in mol.GetBonds():\n",
    "        G.add_edge(bond.GetBeginAtomIdx(),\n",
    "                   bond.GetEndAtomIdx(),\n",
    "                   bond_type=bond.GetBondType(),\n",
    "                   bond_type_value=bond.GetBondTypeAsDouble())\n",
    "    return G\n",
    "\n",
    "mol = df['Smiles'][0]\n",
    "mol = Chem.MolFromSmiles(mol)\n",
    "\n",
    "\n",
    "MolsToImage(mols=[mol], subImgSize=(600,600))\n",
    "\n",
    "\n",
    "def mol_to_nx(mol):\n",
    "    G = nx.Graph()\n",
    "\n",
    "    for atom in mol.GetAtoms():\n",
    "        G.add_node(atom.GetIdx(),\n",
    "                   labels=atom.GetSymbol(),\n",
    "                   atomic_num=atom.GetAtomicNum(),\n",
    "                   formal_charge=atom.GetFormalCharge(),\n",
    "                   chiral_tag=atom.GetChiralTag(),\n",
    "                   hybridization=atom.GetHybridization(),\n",
    "                   num_explicit_hs=atom.GetNumExplicitHs(),\n",
    "                   is_aromatic=atom.GetIsAromatic())\n",
    "    for bond in mol.GetBonds():\n",
    "        G.add_edge(bond.GetBeginAtomIdx(),\n",
    "                   bond.GetEndAtomIdx(),\n",
    "                   bond_type=bond.GetBondType(),\n",
    "                   bond_type_value=bond.GetBondTypeAsDouble())\n",
    "    return G\n",
    "\n",
    "\n",
    "\n",
    "graph_arr = []\n",
    "\n",
    "count = 0\n",
    "for i in df['Smiles']:\n",
    "    mol = Chem.MolFromSmiles(i)\n",
    "    G = mol_to_nx(mol)\n",
    "    G = nx.to_numpy_array(G)\n",
    "    G = torch.tensor(G)\n",
    "    graph_arr.append(G)\n",
    "    count  = count + 1\n",
    "\n",
    "graph_arr[1].shape\n"
   ],
   "outputs": [
    {
     "data": {
      "text/plain": [
       "torch.Size([39, 39])"
      ]
     },
     "execution_count": 107,
     "metadata": {},
     "output_type": "execute_result"
    }
   ],
   "execution_count": 107
  },
  {
   "metadata": {},
   "cell_type": "markdown",
   "source": "각 분자 구조를 그래프 -> 인접행렬 구조로 변환. 각 인접행렬의 크기가 다른 것이 문제임"
  },
  {
   "metadata": {
    "ExecuteTime": {
     "end_time": "2024-09-03T14:17:12.782570Z",
     "start_time": "2024-09-03T14:17:12.770433Z"
    }
   },
   "cell_type": "code",
   "source": "\n",
   "outputs": [],
   "execution_count": 127
  }
 ],
 "metadata": {
  "kernelspec": {
   "display_name": "Python 3",
   "language": "python",
   "name": "python3"
  },
  "language_info": {
   "codemirror_mode": {
    "name": "ipython",
    "version": 3
   },
   "file_extension": ".py",
   "mimetype": "text/x-python",
   "name": "python",
   "nbconvert_exporter": "python",
   "pygments_lexer": "ipython3",
   "version": "3.12.3"
  }
 },
 "nbformat": 4,
 "nbformat_minor": 2
}
