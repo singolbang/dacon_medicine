{
 "cells": [
  {
   "metadata": {
    "jupyter": {
     "is_executing": true
    }
   },
   "cell_type": "code",
   "source": [
    "\n",
    "from rdkit import Chem\n",
    "from rdkit.Chem import Draw\n",
    "from rdkit.Chem.Draw import MolsToImage\n",
    "from rdkit.Chem.Draw import MolToFile\n",
    "import networkx as nx\n",
    "import matplotlib.pyplot as plt\n",
    "import torch\n",
    "import numpy as np\n",
    "\n",
    "import pandas as pd\n",
    "from torch.fx.experimental.migrate_gradual_types.constraint import Transpose\n",
    "\n",
    "df = pd.read_csv('train.csv')\n",
    "dt = pd.read_csv('test.csv')\n",
    "\n",
    "\n",
    "df = df[['IC50_nM', 'Smiles']]\n",
    "\n",
    "pd.DataFrame(df)\n",
    "\n",
    "\n",
    "\n",
    "def mol_to_nx(mol):\n",
    "    G = nx.Graph()\n",
    "\n",
    "    for atom in mol.GetAtoms():\n",
    "        G.add_node(atom.GetIdx(),\n",
    "                   labels=atom.GetSymbol(),\n",
    "                   atomic_num=atom.GetAtomicNum(),\n",
    "                   formal_charge=atom.GetFormalCharge(),\n",
    "                   chiral_tag=atom.GetChiralTag(),\n",
    "                   hybridization=atom.GetHybridization(),\n",
    "                   num_explicit_hs=atom.GetNumExplicitHs(),\n",
    "                   is_aromatic=atom.GetIsAromatic())\n",
    "    for bond in mol.GetBonds():\n",
    "        G.add_edge(bond.GetBeginAtomIdx(),\n",
    "                   bond.GetEndAtomIdx(),\n",
    "                   bond_type=bond.GetBondType(),\n",
    "                   bond_type_value=bond.GetBondTypeAsDouble())\n",
    "    return G\n",
    "\n",
    "mol = df['Smiles'][0]\n",
    "mol = Chem.MolFromSmiles(mol)\n",
    "\n",
    "\n",
    "MolsToImage(mols=[mol], subImgSize=(600,600))\n",
    "\n",
    "\n",
    "def mol_to_nx(mol):\n",
    "    G = nx.Graph()\n",
    "\n",
    "    for atom in mol.GetAtoms():\n",
    "        G.add_node(atom.GetIdx(),\n",
    "                   labels=atom.GetSymbol(),\n",
    "                   atomic_num=atom.GetAtomicNum(),\n",
    "                   formal_charge=atom.GetFormalCharge(),\n",
    "                   chiral_tag=atom.GetChiralTag(),\n",
    "                   hybridization=atom.GetHybridization(),\n",
    "                   num_explicit_hs=atom.GetNumExplicitHs(),\n",
    "                   is_aromatic=atom.GetIsAromatic())\n",
    "    for bond in mol.GetBonds():\n",
    "        G.add_edge(bond.GetBeginAtomIdx(),\n",
    "                   bond.GetEndAtomIdx(),\n",
    "                   bond_type=bond.GetBondType(),\n",
    "                   bond_type_value=bond.GetBondTypeAsDouble())\n",
    "    return G\n",
    "\n",
    "\n",
    "\n",
    "graph_arr = []\n",
    "\n",
    "count = 0\n",
    "for i in df['Smiles']:\n",
    "    mol = Chem.MolFromSmiles(i)\n",
    "    G = mol_to_nx(mol)\n",
    "    G = nx.to_numpy_array(G)\n",
    "    G = torch.tensor(G)\n",
    "    graph_arr.append(G)\n",
    "    count  = count + 1\n",
    "\n",
    "print(graph_arr[0].shape)\n",
    "\n"
   ],
   "outputs": [],
   "execution_count": null
  },
  {
   "metadata": {},
   "cell_type": "markdown",
   "source": "각 분자 구조를 그래프 -> 인접행렬 구조로 변환. 각 인접행렬의 크기가 다른 것이 문제임"
  },
  {
   "metadata": {
    "ExecuteTime": {
     "end_time": "2024-09-05T06:25:22.640086Z",
     "start_time": "2024-09-05T06:25:22.595042Z"
    }
   },
   "cell_type": "code",
   "source": [
    "\n",
    "import torch\n",
    "from torch import nn, optim\n",
    "import matplotlib.pyplot as plt\n",
    "from torch import functional as F\n",
    "\n",
    "class GNNLayer(torch.nn.Module):\n",
    "    def __init__(self, dim_in, dim_out):\n",
    "        super().__init__()\n",
    "        \n",
    "        self.linear = nn.Linear(dim_in, dim_out, bias=False)\n",
    " \n",
    "    def forward(self, x, adjacency):\n",
    "        \n",
    "        x = self.linear(x)\n",
    "        x = torch.sparse.mm(adjacency, x)\n",
    "        \n",
    "        return x\n",
    "    \n",
    "\n",
    "class GNN(torch.nn.Module):\n",
    "    def __init__(self, dim_in, dim_out):\n",
    "        super().__init__()\n",
    "        self.gnn1 = GNNLayer(dim_in, int(dim_in/2))\n",
    "        self.gnn2 = GNNLayer(int(dim_in/2), dim_out)\n",
    "        self.linear = nn.Sequential(nn.Linear(dim_in*dim_out, dim_in*dim_out), nn.ReLU(),\n",
    "                                    nn.Linear(dim_in*dim_out, dim_in*dim_out), nn.ReLU(),\n",
    "                                    nn.Linear(dim_in*dim_out, dim_in*dim_out), nn.ReLU(),\n",
    "                                    nn.Linear(dim_in*dim_out, 1))\n",
    " \n",
    "    def forward(self, x, adjacency):\n",
    "        h = self.gnn1(x, adjacency)\n",
    "        h = torch.relu(h)\n",
    "        h = self.gnn2(h, adjacency)\n",
    "        h = torch.flatten(h)\n",
    "        h = self.linear(h)\n",
    "        \n",
    "        return h\n",
    "\n",
    "\n",
    "test = graph_arr[0] + torch.eye(graph_arr[0].shape[0])\n",
    "graph_arr[0] = graph_arr[0].to(torch.float32)\n",
    "test = test.to(torch.float32)\n",
    "gnn = GNN(72, 1)\n",
    "\n",
    "#print(graph_arr[0])\n",
    "p = gnn(graph_arr[0],test)\n",
    "\n",
    "\n",
    "print(p)\n",
    "\n"
   ],
   "outputs": [
    {
     "name": "stdout",
     "output_type": "stream",
     "text": [
      "tensor([-0.1131], grad_fn=<ViewBackward0>)\n"
     ]
    }
   ],
   "execution_count": 19
  },
  {
   "metadata": {
    "ExecuteTime": {
     "end_time": "2024-09-05T06:19:16.962554Z",
     "start_time": "2024-09-05T06:19:16.955235Z"
    }
   },
   "cell_type": "code",
   "source": [
    "\n",
    "\n"
   ],
   "outputs": [],
   "execution_count": 4
  }
 ],
 "metadata": {
  "kernelspec": {
   "display_name": "Python 3",
   "language": "python",
   "name": "python3"
  },
  "language_info": {
   "codemirror_mode": {
    "name": "ipython",
    "version": 3
   },
   "file_extension": ".py",
   "mimetype": "text/x-python",
   "name": "python",
   "nbconvert_exporter": "python",
   "pygments_lexer": "ipython3",
   "version": "3.12.3"
  }
 },
 "nbformat": 4,
 "nbformat_minor": 2
}
